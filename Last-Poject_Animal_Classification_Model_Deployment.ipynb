{
  "cells": [
    {
      "cell_type": "markdown",
      "metadata": {
        "id": "vcShZNzieTRJ"
      },
      "source": [
        "# **LAST PROJECT: IMAGE CLASSIFICATION MODEL DEPLOYMENT 👨🏽‍💻**"
      ]
    },
    {
      "cell_type": "markdown",
      "metadata": {
        "id": "PnMpB0-GeWo6"
      },
      "source": [
        "* Name         : Lintang Nagari\n",
        "* Email        : unggullintangg@gmail.com\n",
        "* Linkedin     : <a href='https://www.linkedin.com/in/lintangnagari/'>Lintang Nagari</a>\n",
        "* Github       : <a href='https://github.com/lnt-ngr'>lnt-ngr</a>"
      ]
    },
    {
      "cell_type": "markdown",
      "metadata": {
        "id": "3clPYL0YeY9J"
      },
      "source": [
        "**Here are the submission criteria you must meet:**\n",
        "\n",
        "* Use any dataset, but it must have **at least 1000 images**.\n",
        "* The dataset should not have been used.\n",
        "* Divide the dataset into **80% training set and 20% test set**.\n",
        "* Model must use a `sequential model`.\n",
        "* Model must include `Conv2D Maxpooling Layer`.\n",
        "* Achieve **at least 80% accuracy** on both training and validation sets.\n",
        "* Use Callbacks.\n",
        "* Create plots for model accuracy and loss.\n",
        "* Write code to save the model in *TF-Lite format*.\n",
        "\n",
        "**Dataset : https://www.kaggle.com/datasets/shiv28/animal-5-mammal**\n",
        "\n",
        "**About Dataset**\n",
        "\n",
        "It contains about 15K medium quality animal images belonging to 5 categories: **dog, cat, horse, elephant ,lion**. All the images have been collected from `google images` and have been checked by human. There is some erroneous data to simulate real conditions (eg. images taken by users of your app)."
      ]
    },
    {
      "cell_type": "markdown",
      "metadata": {
        "id": "R-LDnE4ykcJi"
      },
      "source": [
        "### __IMPORT DATASET FROM GDRIVE__"
      ]
    },
    {
      "cell_type": "code",
      "execution_count": 1,
      "metadata": {
        "colab": {
          "base_uri": "https://localhost:8080/"
        },
        "id": "kbq6AFurXUW7",
        "outputId": "2b0d398c-2e7a-4440-d5b8-cd167a45375a"
      },
      "outputs": [
        {
          "name": "stdout",
          "output_type": "stream",
          "text": [
            "Mounted at /content/drive\n"
          ]
        }
      ],
      "source": [
        "from google.colab import drive\n",
        "drive.mount('/content/drive')"
      ]
    },
    {
      "cell_type": "markdown",
      "metadata": {},
      "source": [
        "### __IMPORT LIBRARY__"
      ]
    },
    {
      "cell_type": "code",
      "execution_count": 2,
      "metadata": {
        "colab": {
          "base_uri": "https://localhost:8080/"
        },
        "id": "Csijph_WgjoZ",
        "outputId": "3fde474e-a7c6-4ed6-a460-54c5fa907461"
      },
      "outputs": [
        {
          "name": "stdout",
          "output_type": "stream",
          "text": [
            "2.15.0\n"
          ]
        }
      ],
      "source": [
        "import os\n",
        "import matplotlib.pyplot as plt\n",
        "import tensorflow as tf\n",
        "from PIL import Image\n",
        "from tensorflow.keras.applications import InceptionV3, Xception, ResNet50V2\n",
        "from tensorflow.keras.layers import Conv2D, MaxPooling2D, GlobalAveragePooling2D, Dense, Dropout, Flatten, BatchNormalization\n",
        "from tensorflow.keras.callbacks import ReduceLROnPlateau\n",
        "from tensorflow.keras.preprocessing.image import ImageDataGenerator\n",
        "from tensorflow.keras.callbacks import ReduceLROnPlateau\n",
        "\n",
        "print(tf.__version__)"
      ]
    },
    {
      "cell_type": "markdown",
      "metadata": {
        "id": "Os-yVU_kTeOp"
      },
      "source": [
        "### __DATASET__"
      ]
    },
    {
      "cell_type": "code",
      "execution_count": 3,
      "metadata": {
        "colab": {
          "base_uri": "https://localhost:8080/"
        },
        "id": "ZXLcX0xzhCOp",
        "outputId": "e0aa441c-957a-4a89-b00c-62eaad8dc2ee"
      },
      "outputs": [
        {
          "name": "stdout",
          "output_type": "stream",
          "text": [
            "\n",
            "Directory dataset info\n",
            "Folder and its number of files:\n",
            "elephant [2730] files\n",
            "lion [2675] files\n",
            "dog [2627] files\n",
            "cat [2737] files\n",
            "horse [2709] files\n",
            "\n",
            "Total files in all folders: 13478\n",
            "Total folders (label): 5\n",
            "\n",
            "List various resolutions\n",
            "Size all images: 13478\n",
            "Size unique images: 774\n",
            "First 8 unique images: ['282x179', '1024x908', '1022x1024', '290x174', '261x193', '1024x851', '1024x909', '500x455']\n"
          ]
        }
      ],
      "source": [
        "# Dataset Train\n",
        "dataset = '/content/drive/MyDrive/DATASETV1/DATASET/animals/dataframe'\n",
        "\n",
        "# Loop melalui setiap folder di dalam direktori dataset\n",
        "def list_dirs_and_files(directory_path):\n",
        "    print('Folder and its number of files:')\n",
        "\n",
        "    folders = [folder for folder in os.listdir(directory_path) if os.path.isdir(os.path.join(directory_path, folder))]\n",
        "    total_files = 0\n",
        "    total_folders = len(folders)\n",
        "\n",
        "    for folder in folders:\n",
        "        folder_path = os.path.join(directory_path, folder)\n",
        "        files = [file for file in os.listdir(folder_path) if os.path.isfile(os.path.join(folder_path, file))]\n",
        "        file_count = len(files)\n",
        "        total_files += file_count\n",
        "        print(f\"{folder} [{file_count}] files\")\n",
        "\n",
        "    print(f\"\\nTotal files in all folders: {total_files}\")\n",
        "    print(f\"Total folders (label): {total_folders}\")\n",
        "\n",
        "print('\\nDirectory dataset info')\n",
        "list_dirs_and_files(dataset)\n",
        "\n",
        "def list_various_resolutions(directory):\n",
        "    folders = [folder for folder in os.listdir(directory) if os.path.isdir(os.path.join(directory, folder))]\n",
        "    image_sizes = []\n",
        "\n",
        "    for folder in folders:\n",
        "        folder_path = os.path.join(directory, folder)\n",
        "        for file in os.listdir(folder_path):\n",
        "            file_path = os.path.join(folder_path, file)\n",
        "            if os.path.isfile(file_path):\n",
        "                with Image.open(file_path) as image:\n",
        "                    width, height = image.size\n",
        "                    image_sizes.append(f'{width}x{height}')\n",
        "\n",
        "    unique_sizes = set(image_sizes)\n",
        "    first_size_unique = 8\n",
        "\n",
        "    print(f'Size all images: {len(image_sizes)}')\n",
        "    print(f'Size unique images: {len(unique_sizes)}')\n",
        "    print(f'First {first_size_unique} unique images: {list(unique_sizes)[:first_size_unique]}')\n",
        "\n",
        "print('\\nList various resolutions')\n",
        "list_various_resolutions(dataset)"
      ]
    },
    {
      "cell_type": "markdown",
      "metadata": {
        "id": "08F_T13rFWAp"
      },
      "source": [
        "## __DARA PREPROCESSING__"
      ]
    },
    {
      "cell_type": "code",
      "execution_count": 4,
      "metadata": {
        "colab": {
          "base_uri": "https://localhost:8080/"
        },
        "id": "13A98OuhFY2X",
        "outputId": "a4db1ac7-c0c4-4d9b-d56d-74d2d7cbfdef"
      },
      "outputs": [
        {
          "name": "stdout",
          "output_type": "stream",
          "text": [
            "Files and directories in ' /content/drive/MyDrive/DATASET/animals/dataframe ' :\n",
            "['horse', 'elephant', 'dog', 'lion', 'cat']\n"
          ]
        }
      ],
      "source": [
        "#dataset\n",
        "baseDir = '/content/drive/MyDrive/DATASETV1/DATASET/animals/dataframe'\n",
        "path = os.listdir(baseDir)\n",
        "\n",
        "print(\"Files and directories in '\", baseDir, \"' :\")\n",
        "\n",
        "# print the list\n",
        "print(path)"
      ]
    },
    {
      "cell_type": "code",
      "execution_count": 5,
      "metadata": {
        "colab": {
          "base_uri": "https://localhost:8080/"
        },
        "id": "xOBNPwBxPgd_",
        "outputId": "9d195072-ff6f-4f6b-bce1-b11504c8aa01"
      },
      "outputs": [
        {
          "name": "stdout",
          "output_type": "stream",
          "text": [
            "Collecting split-folders\n",
            "  Downloading split_folders-0.5.1-py3-none-any.whl (8.4 kB)\n",
            "Installing collected packages: split-folders\n",
            "Successfully installed split-folders-0.5.1\n"
          ]
        },
        {
          "name": "stderr",
          "output_type": "stream",
          "text": [
            "Copying files: 5389 files [03:39, 24.53 files/s]\n"
          ]
        }
      ],
      "source": [
        "!pip install split-folders\n",
        "import splitfolders as sf\n",
        "\n",
        "# Split directory\n",
        "sf.ratio(\n",
        "    baseDir,\n",
        "    output = os.path.join('/content/drive/MyDrive/DATASETV1'),\n",
        "    seed   = None,\n",
        "    ratio  = (0.8, 0.2)\n",
        ")"
      ]
    },
    {
      "cell_type": "code",
      "execution_count": 6,
      "metadata": {
        "id": "nQ8acyN2SCxm"
      },
      "outputs": [],
      "source": [
        "imageDir = '/content/drive/MyDrive/DATASETV1'\n",
        "\n",
        "trainDirelephant  = os.path.join(imageDir, 'train/elephant')\n",
        "trainDirlion      = os.path.join(imageDir, 'train/lion')\n",
        "trainDirdog       = os.path.join(imageDir, 'train/dog')\n",
        "trainDircat       = os.path.join(imageDir, 'train/cat')\n",
        "trainDirhorse     = os.path.join(imageDir, 'train/horse')\n",
        "\n",
        "valDirelephant    = os.path.join(imageDir, 'val/elephant')\n",
        "valDirlion        = os.path.join(imageDir, 'val/lion')\n",
        "valDirdog         = os.path.join(imageDir, 'val/dog')\n",
        "valDircat         = os.path.join(imageDir, 'val/cat')\n",
        "valDirhorse       = os.path.join(imageDir, 'val/horse')"
      ]
    },
    {
      "cell_type": "code",
      "execution_count": 7,
      "metadata": {
        "colab": {
          "base_uri": "https://localhost:8080/"
        },
        "id": "F1iRL8UeWR7P",
        "outputId": "5a76357b-99a4-48fd-b27b-af2fd0b5ce46"
      },
      "outputs": [
        {
          "name": "stdout",
          "output_type": "stream",
          "text": [
            "Train Set      : 4311\n",
            "Validation Set : 1078\n"
          ]
        }
      ],
      "source": [
        "# Count train and val image\n",
        "trainSet = (\n",
        "      len(os.listdir(trainDirelephant))\n",
        "    + len(os.listdir(trainDirlion))\n",
        "    + len(os.listdir(trainDirdog))\n",
        "    + len(os.listdir(trainDircat))\n",
        "    + len(os.listdir(trainDirhorse))\n",
        ")\n",
        "\n",
        "valSet = (\n",
        "      len(os.listdir(valDirelephant))\n",
        "    + len(os.listdir(valDirlion))\n",
        "    + len(os.listdir(valDirdog))\n",
        "    + len(os.listdir(valDircat))\n",
        "    + len(os.listdir(valDirhorse))\n",
        ")\n",
        "\n",
        "print(f'Train Set      : {trainSet}')\n",
        "print(f'Validation Set : {valSet}')"
      ]
    },
    {
      "cell_type": "code",
      "execution_count": 8,
      "metadata": {
        "colab": {
          "base_uri": "https://localhost:8080/"
        },
        "id": "5yBGiZDBWpa4",
        "outputId": "88b11b4a-c380-4444-a444-ae4c36126d51"
      },
      "outputs": [
        {
          "name": "stdout",
          "output_type": "stream",
          "text": [
            "['horse', 'elephant', 'dog', 'lion', 'cat']\n",
            "['horse', 'elephant', 'dog', 'lion', 'cat']\n"
          ]
        }
      ],
      "source": [
        "# List directory of train and validation image\n",
        "train_dir = os.path.join(imageDir, 'train')\n",
        "val_dir   = os.path.join(imageDir, 'val')\n",
        "\n",
        "print(os.listdir(train_dir))\n",
        "print(os.listdir(val_dir))"
      ]
    },
    {
      "cell_type": "code",
      "execution_count": 9,
      "metadata": {
        "id": "yLylr_H0hCOr"
      },
      "outputs": [],
      "source": [
        "#Image Generator\n",
        "train_datagen = ImageDataGenerator(\n",
        "    rescale = 1./255,\n",
        "    rotation_range = 45,\n",
        "    width_shift_range = 0.2,\n",
        "    height_shift_range = 0.2,\n",
        "    shear_range = 0.2,\n",
        "    zoom_range = 0.2,\n",
        "    horizontal_flip = True,\n",
        "    vertical_flip = True,\n",
        "    fill_mode = 'nearest',\n",
        "    validation_split = 0.2,)\n",
        "\n",
        "test_datagen = ImageDataGenerator(rescale=1./255)"
      ]
    },
    {
      "cell_type": "code",
      "execution_count": 10,
      "metadata": {
        "colab": {
          "base_uri": "https://localhost:8080/"
        },
        "id": "plnsmg9MhCOr",
        "outputId": "369e2c62-ddd6-43c8-fc0f-eaedcff8d778"
      },
      "outputs": [
        {
          "name": "stdout",
          "output_type": "stream",
          "text": [
            "Found 4311 images belonging to 5 classes.\n",
            "Found 1078 images belonging to 5 classes.\n"
          ]
        }
      ],
      "source": [
        "\n",
        "train_gen = train_datagen.flow_from_directory(\n",
        "    train_dir,\n",
        "    target_size = (224, 224),\n",
        "    batch_size = 64,\n",
        "    shuffle = True,\n",
        "    color_mode = 'rgb',\n",
        "    class_mode = 'categorical',\n",
        ")\n",
        "\n",
        "val_gen = test_datagen.flow_from_directory(\n",
        "    val_dir,\n",
        "    target_size = (224, 224),\n",
        "    batch_size = 64,\n",
        "    shuffle = True,\n",
        "    color_mode = 'rgb',\n",
        "    class_mode = 'categorical',\n",
        ")"
      ]
    },
    {
      "cell_type": "markdown",
      "metadata": {
        "id": "IGjRIMs0FdjI"
      },
      "source": [
        "## __MODELLING__"
      ]
    },
    {
      "cell_type": "code",
      "execution_count": 11,
      "metadata": {
        "colab": {
          "base_uri": "https://localhost:8080/"
        },
        "id": "7DfW5MlaEdXZ",
        "outputId": "01e6a844-36fc-45e6-980a-c2caec0b8ba7"
      },
      "outputs": [
        {
          "name": "stdout",
          "output_type": "stream",
          "text": [
            "Downloading data from https://storage.googleapis.com/tensorflow/keras-applications/resnet/resnet50v2_weights_tf_dim_ordering_tf_kernels_notop.h5\n",
            "94668760/94668760 [==============================] - 1s 0us/step\n"
          ]
        }
      ],
      "source": [
        "#Transfer Learning from ResNetv50\n",
        "base_model = ResNet50V2(weights='imagenet', include_top=False, input_shape=(224, 224, 3))\n",
        "\n",
        "for layer in base_model.layers:\n",
        "    layer.trainable = False"
      ]
    },
    {
      "cell_type": "code",
      "execution_count": 12,
      "metadata": {
        "colab": {
          "base_uri": "https://localhost:8080/"
        },
        "id": "J6Uu8cj6SBc6",
        "outputId": "cec6568e-7113-4428-dd5c-30c4374c4d38"
      },
      "outputs": [
        {
          "name": "stdout",
          "output_type": "stream",
          "text": [
            "Model: \"sequential\"\n",
            "_________________________________________________________________\n",
            " Layer (type)                Output Shape              Param #   \n",
            "=================================================================\n",
            " resnet50v2 (Functional)     (None, 7, 7, 2048)        23564800  \n",
            "                                                                 \n",
            " conv2d (Conv2D)             (None, 7, 7, 128)         2359424   \n",
            "                                                                 \n",
            " max_pooling2d_3 (MaxPoolin  (None, 3, 3, 128)         0         \n",
            " g2D)                                                            \n",
            "                                                                 \n",
            " conv2d_1 (Conv2D)           (None, 3, 3, 256)         295168    \n",
            "                                                                 \n",
            " max_pooling2d_4 (MaxPoolin  (None, 1, 1, 256)         0         \n",
            " g2D)                                                            \n",
            "                                                                 \n",
            " global_average_pooling2d (  (None, 256)               0         \n",
            " GlobalAveragePooling2D)                                         \n",
            "                                                                 \n",
            " batch_normalization (Batch  (None, 256)               1024      \n",
            " Normalization)                                                  \n",
            "                                                                 \n",
            " dense (Dense)               (None, 2048)              526336    \n",
            "                                                                 \n",
            " dense_1 (Dense)             (None, 1024)              2098176   \n",
            "                                                                 \n",
            " dropout (Dropout)           (None, 1024)              0         \n",
            "                                                                 \n",
            " dense_2 (Dense)             (None, 512)               524800    \n",
            "                                                                 \n",
            " dense_3 (Dense)             (None, 256)               131328    \n",
            "                                                                 \n",
            " dropout_1 (Dropout)         (None, 256)               0         \n",
            "                                                                 \n",
            " dense_4 (Dense)             (None, 128)               32896     \n",
            "                                                                 \n",
            " dense_5 (Dense)             (None, 5)                 645       \n",
            "                                                                 \n",
            "=================================================================\n",
            "Total params: 29534597 (112.67 MB)\n",
            "Trainable params: 5969285 (22.77 MB)\n",
            "Non-trainable params: 23565312 (89.89 MB)\n",
            "_________________________________________________________________\n"
          ]
        }
      ],
      "source": [
        "# model's architecture\n",
        "model = tf.keras.models.Sequential([\n",
        "    base_model,\n",
        "    Conv2D(128, (3, 3), activation = 'relu', padding = 'same'),\n",
        "    MaxPooling2D((2,2)),\n",
        "    Conv2D(256, (3, 3), activation = 'relu', padding = 'same'),\n",
        "    MaxPooling2D((2,2)),\n",
        "    GlobalAveragePooling2D(),\n",
        "    BatchNormalization(),\n",
        "    Dense(2048, activation = 'relu'),\n",
        "    Dense(1024, activation = 'relu'),\n",
        "    Dropout(.3),\n",
        "    Dense(512, activation = 'relu'),\n",
        "    Dense(256, activation = 'relu'),\n",
        "    Dropout(.3),\n",
        "    Dense(128, activation = 'relu'),\n",
        "    Dense(5, activation='softmax')\n",
        "])\n",
        "\n",
        "model.summary()"
      ]
    },
    {
      "cell_type": "code",
      "execution_count": 13,
      "metadata": {
        "id": "Pp7GuR75UVzz"
      },
      "outputs": [],
      "source": [
        "# compiling the model\n",
        "model.compile(\n",
        "    loss ='categorical_crossentropy',\n",
        "    optimizer = tf.optimizers.Adam(learning_rate = 0.001),\n",
        "    metrics = ['accuracy']\n",
        ")"
      ]
    },
    {
      "cell_type": "markdown",
      "metadata": {
        "id": "985LsKDkhCOs"
      },
      "source": [
        "## __CALLBACK__"
      ]
    },
    {
      "cell_type": "code",
      "execution_count": 14,
      "metadata": {
        "id": "FsIq4_DFhCOs"
      },
      "outputs": [],
      "source": [
        "# Stop training callback\n",
        "class stopCallback(tf.keras.callbacks.Callback):\n",
        "    def on_epoch_end(self, epoch, logs={}):\n",
        "        if (logs.get('accuracy') > 0.92 and logs.get('val_accuracy') > 0.92):\n",
        "            print('\\nAccuracy and Validation Accuracy reach > 92%')\n",
        "            self.model.stop_training = True\n",
        "\n",
        "MyCallbacks = stopCallback()\n",
        "\n",
        "# ReduceLROnPlateau callback\n",
        "reduceLROP   = ReduceLROnPlateau(monitor='val_loss', factor=0.2, patience=5, min_lr=0.0001)\n"
      ]
    },
    {
      "cell_type": "markdown",
      "metadata": {
        "id": "VuzeIJInhCOs"
      },
      "source": [
        "## __FUNGSI FIT__"
      ]
    },
    {
      "cell_type": "code",
      "execution_count": 15,
      "metadata": {
        "colab": {
          "base_uri": "https://localhost:8080/"
        },
        "id": "rtXToPOjhCOs",
        "outputId": "669be722-04df-4e42-cc2e-95603de666e5"
      },
      "outputs": [
        {
          "name": "stdout",
          "output_type": "stream",
          "text": [
            "Epoch 1/50\n",
            "16/16 - 48s - loss: 0.6366 - accuracy: 0.7426 - val_loss: 1.5861 - val_accuracy: 0.8652 - lr: 0.0010 - 48s/epoch - 3s/step\n",
            "Epoch 2/50\n",
            "16/16 - 30s - loss: 0.3473 - accuracy: 0.8740 - val_loss: 0.3257 - val_accuracy: 0.9131 - lr: 0.0010 - 30s/epoch - 2s/step\n",
            "Epoch 3/50\n",
            "16/16 - 30s - loss: 0.2879 - accuracy: 0.9131 - val_loss: 0.2533 - val_accuracy: 0.9297 - lr: 0.0010 - 30s/epoch - 2s/step\n",
            "Epoch 4/50\n",
            "16/16 - 40s - loss: 0.3164 - accuracy: 0.8838 - val_loss: 0.1703 - val_accuracy: 0.9570 - lr: 0.0010 - 40s/epoch - 3s/step\n",
            "Epoch 5/50\n",
            "16/16 - 35s - loss: 0.2729 - accuracy: 0.9072 - val_loss: 0.1413 - val_accuracy: 0.9609 - lr: 0.0010 - 35s/epoch - 2s/step\n",
            "Epoch 6/50\n",
            "16/16 - 29s - loss: 0.2591 - accuracy: 0.9013 - val_loss: 0.2331 - val_accuracy: 0.9316 - lr: 0.0010 - 29s/epoch - 2s/step\n",
            "Epoch 7/50\n",
            "16/16 - 30s - loss: 0.2342 - accuracy: 0.9141 - val_loss: 0.2087 - val_accuracy: 0.9463 - lr: 0.0010 - 30s/epoch - 2s/step\n",
            "Epoch 8/50\n",
            "16/16 - 30s - loss: 0.2964 - accuracy: 0.8906 - val_loss: 0.1365 - val_accuracy: 0.9551 - lr: 0.0010 - 30s/epoch - 2s/step\n",
            "Epoch 9/50\n",
            "16/16 - 40s - loss: 0.2785 - accuracy: 0.8965 - val_loss: 0.1418 - val_accuracy: 0.9531 - lr: 0.0010 - 40s/epoch - 2s/step\n",
            "Epoch 10/50\n",
            "16/16 - 41s - loss: 0.2461 - accuracy: 0.9141 - val_loss: 0.1453 - val_accuracy: 0.9580 - lr: 0.0010 - 41s/epoch - 3s/step\n",
            "Epoch 11/50\n",
            "16/16 - 41s - loss: 0.2608 - accuracy: 0.9141 - val_loss: 0.1217 - val_accuracy: 0.9590 - lr: 0.0010 - 41s/epoch - 3s/step\n",
            "Epoch 12/50\n",
            "16/16 - 30s - loss: 0.2322 - accuracy: 0.9170 - val_loss: 0.1149 - val_accuracy: 0.9590 - lr: 0.0010 - 30s/epoch - 2s/step\n",
            "Epoch 13/50\n",
            "\n",
            "Accuracy and Validation Accuracy reach > 92%\n",
            "16/16 - 39s - loss: 0.2541 - accuracy: 0.9238 - val_loss: 0.1107 - val_accuracy: 0.9600 - lr: 0.0010 - 39s/epoch - 2s/step\n"
          ]
        }
      ],
      "source": [
        "epoch_number = 50\n",
        "history = model.fit(\n",
        "    train_gen,\n",
        "    epochs = epoch_number,\n",
        "    steps_per_epoch = 16,\n",
        "    validation_data = val_gen,\n",
        "    validation_steps = 16,\n",
        "    callbacks = [MyCallbacks, reduceLROP],\n",
        "    verbose = 2,\n",
        ")"
      ]
    },
    {
      "cell_type": "markdown",
      "metadata": {
        "id": "XCu4l68zhCOt"
      },
      "source": [
        "## __PLOTTING__"
      ]
    },
    {
      "cell_type": "code",
      "execution_count": 23,
      "metadata": {
        "colab": {
          "base_uri": "https://localhost:8080/",
          "height": 506
        },
        "id": "PzQlSg_ahCOt",
        "outputId": "f2711912-309d-4f24-cd4f-e3f89b075c6e"
      },
      "outputs": [
        {
          "data": {
            "image/png": "[encoded data removed]",
            "text/plain": [
              "<Figure size 800x500 with 1 Axes>"
            ]
          },
          "metadata": {},
          "output_type": "display_data"
        },
        {
          "data": {
            "text/plain": [
              "<Figure size 640x480 with 0 Axes>"
            ]
          },
          "metadata": {},
          "output_type": "display_data"
        }
      ],
      "source": [
        "#loss Plot\n",
        "plt.figure(figsize=(8,5))\n",
        "plt.plot(history.history['loss'], label='Training Loss')\n",
        "plt.plot(history.history['val_loss'], label='Validation Loss')\n",
        "plt.title('Loss Plot')\n",
        "plt.ylabel('Loss')\n",
        "plt.xlabel('Epoch')\n",
        "plt.legend(loc=\"upper right\")\n",
        "plt.show()\n",
        "\n",
        "plt.savefig(\"/content/loss-plot.jpg\", transparent=True, bbox_inches='tight' )"
      ]
    },
    {
      "cell_type": "code",
      "execution_count": 24,
      "metadata": {
        "colab": {
          "base_uri": "https://localhost:8080/",
          "height": 506
        },
        "id": "pxIqeEIPhCOt",
        "outputId": "db254333-8c55-4822-8639-65eae2dfc6a3"
      },
      "outputs": [
        {
          "data": {
            "image/png": "[encoded data removed]",
            "text/plain": [
              "<Figure size 800x500 with 1 Axes>"
            ]
          },
          "metadata": {},
          "output_type": "display_data"
        },
        {
          "data": {
            "text/plain": [
              "<Figure size 640x480 with 0 Axes>"
            ]
          },
          "metadata": {},
          "output_type": "display_data"
        }
      ],
      "source": [
        "#Accuracy Plot\n",
        "plt.figure(figsize=(8,5))\n",
        "plt.plot(history.history['accuracy'], label='Training Accuracy')\n",
        "plt.plot(history.history['val_accuracy'], label='Validation Accuracy')\n",
        "plt.title('Accuracy Plot')\n",
        "plt.ylabel('Accuracy')\n",
        "plt.xlabel('Epoch')\n",
        "plt.legend(loc=\"upper left\")\n",
        "plt.show()\n",
        "\n",
        "plt.savefig(\"/content/Accuracy-plot.jpg\", transparent=True, bbox_inches='tight' )"
      ]
    },
    {
      "cell_type": "markdown",
      "metadata": {
        "id": "ZZ7Le30OzSwr"
      },
      "source": [
        "## __SAVE MODEL IN SAVEMODAL FORMAT__"
      ]
    },
    {
      "cell_type": "code",
      "execution_count": 18,
      "metadata": {
        "id": "lr4oPp2_ze-D"
      },
      "outputs": [],
      "source": [
        "save_path = os.path.join(\"models/testing_model/1/\")\n",
        "tf.saved_model.save(model, save_path)"
      ]
    },
    {
      "cell_type": "code",
      "execution_count": 25,
      "metadata": {
        "id": "OHQcknIqB3o9"
      },
      "outputs": [],
      "source": [
        "# save to google drive\n",
        "save_path = os.path.join(\"/content/drive/MyDrive/models/rps_model/1/\")\n",
        "tf.saved_model.save(model, save_path)"
      ]
    },
    {
      "cell_type": "code",
      "execution_count": 19,
      "metadata": {
        "colab": {
          "base_uri": "https://localhost:8080/"
        },
        "id": "eF5oJD5tKVr2",
        "outputId": "db975818-22dd-4963-c796-02e21cddd1c4"
      },
      "outputs": [
        {
          "name": "stdout",
          "output_type": "stream",
          "text": [
            "  adding: content/models/ (stored 0%)\n",
            "  adding: content/models/rps_model/ (stored 0%)\n",
            "  adding: content/models/rps_model/1/ (stored 0%)\n",
            "  adding: content/models/rps_model/1/saved_model.pb (deflated 91%)\n",
            "  adding: content/models/rps_model/1/variables/ (stored 0%)\n",
            "  adding: content/models/rps_model/1/variables/variables.data-00000-of-00001 (deflated 7%)\n",
            "  adding: content/models/rps_model/1/variables/variables.index (deflated 76%)\n",
            "  adding: content/models/rps_model/1/assets/ (stored 0%)\n",
            "  adding: content/models/rps_model/1/fingerprint.pb (stored 0%)\n"
          ]
        }
      ],
      "source": [
        "!zip -r /content/models.zip /content/models/"
      ]
    },
    {
      "cell_type": "code",
      "execution_count": 20,
      "metadata": {
        "colab": {
          "base_uri": "https://localhost:8080/",
          "height": 36
        },
        "id": "1U9VEhMV530L",
        "outputId": "803697aa-477a-4d65-f6ad-7de1aae7c018"
      },
      "outputs": [
        {
          "data": {
            "application/javascript": "\n    async function download(id, filename, size) {\n      if (!google.colab.kernel.accessAllowed) {\n        return;\n      }\n      const div = document.createElement('div');\n      const label = document.createElement('label');\n      label.textContent = `Downloading \"${filename}\": `;\n      div.appendChild(label);\n      const progress = document.createElement('progress');\n      progress.max = size;\n      div.appendChild(progress);\n      document.body.appendChild(div);\n\n      const buffers = [];\n      let downloaded = 0;\n\n      const channel = await google.colab.kernel.comms.open(id);\n      // Send a message to notify the kernel that we're ready.\n      channel.send({})\n\n      for await (const message of channel.messages) {\n        // Send a message to notify the kernel that we're ready.\n        channel.send({})\n        if (message.buffers) {\n          for (const buffer of message.buffers) {\n            buffers.push(buffer);\n            downloaded += buffer.byteLength;\n            progress.value = downloaded;\n          }\n        }\n      }\n      const blob = new Blob(buffers, {type: 'application/binary'});\n      const a = document.createElement('a');\n      a.href = window.URL.createObjectURL(blob);\n      a.download = filename;\n      div.appendChild(a);\n      a.click();\n      div.remove();\n    }\n  ",
            "text/plain": [
              "<IPython.core.display.Javascript object>"
            ]
          },
          "metadata": {},
          "output_type": "display_data"
        },
        {
          "data": {
            "application/javascript": "download(\"download_645ecd07-c40d-4ea5-91fb-b2d0b1d034f8\", \"models.zip\", 154991694)",
            "text/plain": [
              "<IPython.core.display.Javascript object>"
            ]
          },
          "metadata": {},
          "output_type": "display_data"
        },
        {
          "data": {
            "application/javascript": "\n    async function download(id, filename, size) {\n      if (!google.colab.kernel.accessAllowed) {\n        return;\n      }\n      const div = document.createElement('div');\n      const label = document.createElement('label');\n      label.textContent = `Downloading \"${filename}\": `;\n      div.appendChild(label);\n      const progress = document.createElement('progress');\n      progress.max = size;\n      div.appendChild(progress);\n      document.body.appendChild(div);\n\n      const buffers = [];\n      let downloaded = 0;\n\n      const channel = await google.colab.kernel.comms.open(id);\n      // Send a message to notify the kernel that we're ready.\n      channel.send({})\n\n      for await (const message of channel.messages) {\n        // Send a message to notify the kernel that we're ready.\n        channel.send({})\n        if (message.buffers) {\n          for (const buffer of message.buffers) {\n            buffers.push(buffer);\n            downloaded += buffer.byteLength;\n            progress.value = downloaded;\n          }\n        }\n      }\n      const blob = new Blob(buffers, {type: 'application/binary'});\n      const a = document.createElement('a');\n      a.href = window.URL.createObjectURL(blob);\n      a.download = filename;\n      div.appendChild(a);\n      a.click();\n      div.remove();\n    }\n  ",
            "text/plain": [
              "<IPython.core.display.Javascript object>"
            ]
          },
          "metadata": {},
          "output_type": "display_data"
        },
        {
          "data": {
            "application/javascript": "download(\"download_5f373f7a-f4c4-4b6a-8ec2-11fcabd568b4\", \"loss-plot.jpg\", 5427)",
            "text/plain": [
              "<IPython.core.display.Javascript object>"
            ]
          },
          "metadata": {},
          "output_type": "display_data"
        },
        {
          "data": {
            "application/javascript": "\n    async function download(id, filename, size) {\n      if (!google.colab.kernel.accessAllowed) {\n        return;\n      }\n      const div = document.createElement('div');\n      const label = document.createElement('label');\n      label.textContent = `Downloading \"${filename}\": `;\n      div.appendChild(label);\n      const progress = document.createElement('progress');\n      progress.max = size;\n      div.appendChild(progress);\n      document.body.appendChild(div);\n\n      const buffers = [];\n      let downloaded = 0;\n\n      const channel = await google.colab.kernel.comms.open(id);\n      // Send a message to notify the kernel that we're ready.\n      channel.send({})\n\n      for await (const message of channel.messages) {\n        // Send a message to notify the kernel that we're ready.\n        channel.send({})\n        if (message.buffers) {\n          for (const buffer of message.buffers) {\n            buffers.push(buffer);\n            downloaded += buffer.byteLength;\n            progress.value = downloaded;\n          }\n        }\n      }\n      const blob = new Blob(buffers, {type: 'application/binary'});\n      const a = document.createElement('a');\n      a.href = window.URL.createObjectURL(blob);\n      a.download = filename;\n      div.appendChild(a);\n      a.click();\n      div.remove();\n    }\n  ",
            "text/plain": [
              "<IPython.core.display.Javascript object>"
            ]
          },
          "metadata": {},
          "output_type": "display_data"
        },
        {
          "data": {
            "application/javascript": "download(\"download_0bb3271f-8ef2-4ac4-b1cf-a7806b2f2228\", \"Accuracy-plot.jpg\", 5427)",
            "text/plain": [
              "<IPython.core.display.Javascript object>"
            ]
          },
          "metadata": {},
          "output_type": "display_data"
        },
        {
          "name": "stdout",
          "output_type": "stream",
          "text": [
            "`model` has been downloaded\n"
          ]
        }
      ],
      "source": [
        "from google.colab import files\n",
        "\n",
        "# Download the model\n",
        "files.download('/content/models.zip')\n",
        "files.download('/content/loss-plot.jpg')\n",
        "files.download('/content/Accuracy-plot.jpg')\n",
        "\n",
        "print('`model` has been downloaded')"
      ]
    },
    {
      "cell_type": "markdown",
      "metadata": {
        "id": "fsfkclC8YHLT"
      },
      "source": [
        "## __SAVE MODEL TF-LITE__"
      ]
    },
    {
      "cell_type": "code",
      "execution_count": 21,
      "metadata": {
        "id": "iX25uO92YHLZ"
      },
      "outputs": [],
      "source": [
        "import warnings\n",
        "\n",
        "warnings.filterwarnings('ignore') # Ignore Warning\n",
        "\n",
        "# Convert model\n",
        "converter = tf.lite.TFLiteConverter.from_keras_model(model)\n",
        "tflite_model = converter.convert()\n",
        "\n",
        "# Save the model.\n",
        "with tf.io.gfile.GFile('Animal_ClassV1.tflite', 'wb') as f:\n",
        "  f.write(tflite_model)"
      ]
    },
    {
      "cell_type": "code",
      "execution_count": 22,
      "metadata": {
        "colab": {
          "base_uri": "https://localhost:8080/",
          "height": 36
        },
        "id": "IRg1RmJoYHLa",
        "outputId": "87ec48ba-dd21-4006-cd32-70f0ab4d850a"
      },
      "outputs": [
        {
          "data": {
            "application/javascript": "\n    async function download(id, filename, size) {\n      if (!google.colab.kernel.accessAllowed) {\n        return;\n      }\n      const div = document.createElement('div');\n      const label = document.createElement('label');\n      label.textContent = `Downloading \"${filename}\": `;\n      div.appendChild(label);\n      const progress = document.createElement('progress');\n      progress.max = size;\n      div.appendChild(progress);\n      document.body.appendChild(div);\n\n      const buffers = [];\n      let downloaded = 0;\n\n      const channel = await google.colab.kernel.comms.open(id);\n      // Send a message to notify the kernel that we're ready.\n      channel.send({})\n\n      for await (const message of channel.messages) {\n        // Send a message to notify the kernel that we're ready.\n        channel.send({})\n        if (message.buffers) {\n          for (const buffer of message.buffers) {\n            buffers.push(buffer);\n            downloaded += buffer.byteLength;\n            progress.value = downloaded;\n          }\n        }\n      }\n      const blob = new Blob(buffers, {type: 'application/binary'});\n      const a = document.createElement('a');\n      a.href = window.URL.createObjectURL(blob);\n      a.download = filename;\n      div.appendChild(a);\n      a.click();\n      div.remove();\n    }\n  ",
            "text/plain": [
              "<IPython.core.display.Javascript object>"
            ]
          },
          "metadata": {},
          "output_type": "display_data"
        },
        {
          "data": {
            "application/javascript": "download(\"download_b0c2eab3-aa2f-4d09-bae4-7cf122217f10\", \"Animal_ClassV1.tflite\", 117978860)",
            "text/plain": [
              "<IPython.core.display.Javascript object>"
            ]
          },
          "metadata": {},
          "output_type": "display_data"
        },
        {
          "name": "stdout",
          "output_type": "stream",
          "text": [
            "`model.tflite` has been downloaded\n"
          ]
        }
      ],
      "source": [
        "from google.colab import files\n",
        "\n",
        "# Download the tf-lite model\n",
        "files.download('/content/Animal_ClassV1.tflite')\n",
        "\n",
        "print('`model.tflite` has been downloaded')"
      ]
    }
  ],
  "metadata": {
    "accelerator": "GPU",
    "colab": {
      "collapsed_sections": [
        "IGjRIMs0FdjI",
        "985LsKDkhCOs",
        "VuzeIJInhCOs"
      ],
      "gpuType": "T4",
      "provenance": []
    },
    "kernelspec": {
      "display_name": "Python 3",
      "name": "python3"
    },
    "language_info": {
      "codemirror_mode": {
        "name": "ipython",
        "version": 3
      },
      "file_extension": ".py",
      "mimetype": "text/x-python",
      "name": "python",
      "nbconvert_exporter": "python",
      "pygments_lexer": "ipython3",
      "version": "3.9.17"
    }
  },
  "nbformat": 4,
  "nbformat_minor": 0
}
